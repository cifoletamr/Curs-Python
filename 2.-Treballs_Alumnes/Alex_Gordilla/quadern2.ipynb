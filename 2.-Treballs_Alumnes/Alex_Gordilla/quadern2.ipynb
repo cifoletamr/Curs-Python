{
 "cells": [
  {
   "cell_type": "code",
   "execution_count": null,
   "metadata": {},
   "outputs": [],
   "source": [
    "# ------------------------------------------------------------------------------\n",
    "# QUADERN 2 D'AVALUACIÓ CONTINUA\n",
    "# Alumne (nom i cognons) : \n",
    "#\n",
    "#------------------------------------------------------------------------------\n",
    "# PART TEÒRICA\n",
    "#------------------------------------------------------------------------------\n",
    "# 1. Les Tuples són unes col·leccions molt semblants a les llistes amb la peculiaritat que\n",
    "# A) són immutables\n",
    "# B) són mutables\n",
    "#\n",
    "# 2. La funció len (), igual que si fos una llista, podem utilitzar-la per saber\n",
    "# A) la longitud d'el major element d'una tupla\n",
    "# B) la longitud d'una tupla\n",
    "#\n",
    "# 3. La funció index () serveix per buscar un element i saber la seva posició\n",
    "# A) en una tupla\n",
    "# B) tant en una llista com en una tupla\n",
    "#\n",
    "# 4.Determina el resultat de el següent codi:\n",
    "# dias_mes = (31,28,31,30,31,30,31,31,30,31,30,31)\n",
    "# print (dias_mes.count (31))\n",
    "# A) 0\n",
    "# B) 7\n",
    "#\n",
    "# 5. Les tuples no disposen de mètodes per modificar el seu contingut, per exemple: append ()\n",
    "# A) Vertader\n",
    "# B) Fals\n",
    "#\n",
    "# 6. Un conjunt pot definir-se amb la funció set ()\n",
    "# A) Vertader, però també pot crear-se amb dades: per exemple conjunt = {1,2,3}\n",
    "# B) Fals\n",
    "\n"
   ]
  },
  {
   "cell_type": "code",
   "execution_count": 2,
   "metadata": {},
   "outputs": [
    {
     "name": "stdout",
     "output_type": "stream",
     "text": [
      "Respostes 1=x, 2=x, 3=x, 4=x, 5=x, 6=x\n"
     ]
    }
   ],
   "source": [
    "print (\"Respostes 1=x, 2=x, 3=x, 4=x, 5=x, 6=x\")"
   ]
  },
  {
   "cell_type": "code",
   "execution_count": null,
   "metadata": {},
   "outputs": [],
   "source": [
    "------------------------------------------------------------------------------\n",
    "PART PRÀCTICA - Exercici 1.  (2 punts)\n",
    "------------------------------------------------------------------------------\n",
    "1. ELEMENTS RANDOM\n",
    "1.1. Crea una tupla t amb 10 noms de colors o personatges de joc.\n",
    "1.2. Obté n = nombre random de el 0 a el 9\n",
    "1.3. Imprimeix el nom de l'n-èsim element\n",
    "1.4. Realitza les accions 1.2. i 1.3. 5 vegades.\n",
    "#------------------------------------------------------------------------------"
   ]
  },
  {
   "cell_type": "code",
   "execution_count": null,
   "metadata": {},
   "outputs": [],
   "source": [
    "#------------------------------------------------------------------------------\n",
    "# PART PRÀCTICA -  Exercici 2.  (3 punts)\n",
    "#------------------------------------------------------------------------------\n",
    "# - Genera amb matplotlib un gràfic de dispersió (scatter) \n",
    "#   amb les dades de temperatures mitjanes de 12 mesos de l'any, i volum de \n",
    "#   pluja mensual:\n",
    "\n",
    "#  mesos = ['Gen', 'Feb', 'Mar', 'Abr', 'Maig','Juny']\n",
    "#  temperatures = [12.5 , 12.3, 15.2 , 16.4, 20.5, 22.2]\n",
    "#  plujamm = [335 , 203, 334 , 604, 700, 555]\n",
    "\n",
    "# - Per als mesos sense dades genera un valor aleatori significatiu.\n",
    "# - Ha de contenir 12 valors per x =(mesos)  y =(temperatura mitjana)\n",
    "# - Mides, proporcionals a el volum de pluja cada punt\n",
    "# - Colors diferents per a cada punt"
   ]
  },
  {
   "cell_type": "code",
   "execution_count": 1,
   "metadata": {},
   "outputs": [
    {
     "name": "stdout",
     "output_type": "stream",
     "text": [
      "7\n"
     ]
    }
   ],
   "source": [
    "dies_mes = (31,28,31,30,31,30,31,31,30,31,30,31)\n",
    "print (dies_mes.count (31))\n"
   ]
  }
 ],
 "metadata": {
  "kernelspec": {
   "display_name": "Python 3",
   "language": "python",
   "name": "python3"
  },
  "language_info": {
   "codemirror_mode": {
    "name": "ipython",
    "version": 3
   },
   "file_extension": ".py",
   "mimetype": "text/x-python",
   "name": "python",
   "nbconvert_exporter": "python",
   "pygments_lexer": "ipython3",
   "version": "3.7.1"
  }
 },
 "nbformat": 4,
 "nbformat_minor": 2
}
